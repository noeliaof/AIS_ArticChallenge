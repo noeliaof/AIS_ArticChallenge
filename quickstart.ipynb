{
 "cells": [
  {
   "cell_type": "markdown",
   "id": "0c461fb7-78b9-4201-847e-2e11c8f599ff",
   "metadata": {
    "tags": []
   },
   "source": [
    "# Quick start guide\n",
    "This notebook serves as an example of how to train a simple model using pytorch and the ready-to-train AI4Arctic challenge dataset. Initially, a dictionary, 'train_options', is set up with relevant options for both the example U-Net Convolutional Neural Network model and the dataloader. Note that the weights of the U-Net will be initialised at random and therefore not deterministic - results will vary for every training run. Two lists (dataset.json and testset.json) include the names of the scenes relevant to training and testing, where the former can be altered if desired. Training data is loaded in parallel using the build-in torch Dataset and Dataloader classes, and works by randomly sampling a scene and performing a random crop to extract a patch. Each batch will then be compiled of X number of these patches with the patch size in the 'train_options'. An obstacle is different grid resolution sizes, which is overcome by upsampling low resolution variables, e.g. AMSR2, ERA5, to match the SAR pixels. A number of batches will be prepared in parallel and stored until use, depending on the number of workers (processes) spawned (this can be changed in 'num_workers' in 'train_options'). The model is trained on a fixed number of steps according to the number of batches in an epoch, defined by the 'epoch_len' parameter, and will run for a total number of epochs depending on the 'epochs' parameter. After each epoch, the model is evaluated. In this example, a random number of scenes are sampled among the training scenes (and removed from the list of training scenes) to act as a validation set used for the evaluation. The model is evaluated with the metrics, and if the current validation attempt is superior to the previous, then the model parameters are stored in the 'best_model' file in the directory.\n",
    "\n",
    "The models are scored on the three sea ice parameters; Sea Ice Concentration (SIC), Stage of Development (SOD) and the Floe size (FLOE) with the $R²$ metric for the SIC, and the weighted F1 metric for the SOD and FLOE. The 3 scores are combined into a single metric by taking the weighted average with SIC and SOD being weighted with 2 and the FLOE with 1.\n",
    "\n",
    "Finally, once you are ready to test your model on the test scenes (without reference data), the 'test_upload' notebook will produce model outputs with your model of choice and save the output as a netCDF file, which can be uploaded to the AI4EO.eu website. The model outputs will be evaluated and then you will receive a score. \n",
    "\n",
    "This quick start notebook is by no means necessary to utilize, and you are more than welcome to develop your own data pipeline. We do however require that the model output is stored in a netcdf file with xarray.dataarrays titled '{scene_name}_{chart}', i.e. 3 charts per scene / file (see how in 'test_upload'). In addition, you are more than welcome to create your own preprocessing scheme to prepare the raw AI4Arctic challenge dataset. However, we ask that the model output is in 80 m pixel spacing (original is 40 m), and that you follow the class numberings from the lookup tables in 'utils' - at least you will be evaluated in this way. Furthermore, we have included a function to convert the polygon_icechart to SIC, SOD and FLOE, you will have to incorporate it yourself.\n",
    "\n",
    "The first cell imports the necessary Python packages, initializes the 'train_options' dictionary, the sample U-Net options, loads the dataset list and select validation scenes."
   ]
  },
  {
   "cell_type": "code",
   "execution_count": 1,
   "id": "44a8d5a8-674a-42b3-9789-2a04818fa860",
   "metadata": {},
   "outputs": [],
   "source": [
    "# -- Built-in modules -- #\n",
    "import gc\n",
    "import os\n",
    "import sys\n",
    "\n",
    "# -- Environmental variables -- #\n",
    "os.environ['AI4ARCTIC_DATA'] = '/storage/homefs/no21h426/AI4/data/'\n",
    "os.environ['AI4ARCTIC_TRAIN'] = '/storage/homefs/no21h426/AI4/data/train/'# Fill in directory for data location.\n",
    "os.environ['AI4ARCTIC_ENV'] = '/storage/homefs/no21h426/AI4ArcticSeaIceChallenge/'   # Fill in directory for environment with Ai4Arctic get-started package. \n"
   ]
  },
  {
   "cell_type": "code",
   "execution_count": 2,
   "id": "e6d7b004-84dd-4501-a6c0-3bf0630e787b",
   "metadata": {},
   "outputs": [
    {
     "name": "stdout",
     "output_type": "stream",
     "text": [
      "3.10.9 (main, Jan 11 2023, 15:21:40) [GCC 11.2.0]\n"
     ]
    }
   ],
   "source": [
    "print(sys.version)"
   ]
  },
  {
   "cell_type": "code",
   "execution_count": 3,
   "id": "c82d24f0-233b-41f9-95ef-af0cc0895800",
   "metadata": {
    "tags": []
   },
   "outputs": [
    {
     "name": "stdout",
     "output_type": "stream",
     "text": [
      "Stored 'train_options' (dict)\n",
      "Options initialised\n"
     ]
    }
   ],
   "source": [
    "# -- Third-part modules -- #\n",
    "import json\n",
    "import matplotlib.pyplot as plt\n",
    "import numpy as np\n",
    "import torch\n",
    "import xarray as xr\n",
    "from tqdm.notebook import tqdm  # Progress bar\n",
    "\n",
    "# --Proprietary modules -- #\n",
    "from functions import chart_cbar, r2_metric, f1_metric, compute_metrics  # Functions to calculate metrics and show the relevant chart colorbar.\n",
    "from loaders import AI4ArcticChallengeDataset, AI4ArcticChallengeTestDataset, get_variable_options  # Custom dataloaders for regular training and validation.\n",
    "from unet import UNet  # Convolutional Neural Network model\n",
    "from utils import CHARTS, SIC_LOOKUP, SOD_LOOKUP, FLOE_LOOKUP, SCENE_VARIABLES, colour_str\n",
    "\n",
    "train_options = {\n",
    "    # -- Training options -- #\n",
    "    'path_to_processed_data': os.environ['AI4ARCTIC_TRAIN'],  # Replace with data directory path.\n",
    "    'path_to_env': os.environ['AI4ARCTIC_ENV'],  # Replace with environmment directory path.\n",
    "    'lr': 0.0001,  # Optimizer learning rate.\n",
    "    'epochs': 10, #50,  # Number of epochs before training stop. \n",
    "    'epoch_len': 50, #100, # 500,  # Number of batches for each epoch.\n",
    "    'patch_size': 32, #256,  # Size of patches sampled. Used for both Width and Height.\n",
    "    'batch_size': 8,  # Number of patches for each batch.\n",
    "    'loader_upsampling': 'nearest',  # How to upscale low resolution variables to high resolution.\n",
    "    \n",
    "    # -- Data prepraration lookups and metrics.\n",
    "    'train_variables': SCENE_VARIABLES,  # Contains the relevant variables in the scenes.\n",
    "    'charts': CHARTS,  # Charts to train on.\n",
    "    'n_classes': {  # number of total classes in the reference charts, including the mask.\n",
    "        'SIC': SIC_LOOKUP['n_classes'],\n",
    "        'SOD': SOD_LOOKUP['n_classes'],\n",
    "        'FLOE': FLOE_LOOKUP['n_classes']\n",
    "    },\n",
    "    'pixel_spacing': 80,  # SAR pixel spacing. 80 for the ready-to-train AI4Arctic Challenge dataset.\n",
    "    'train_fill_value': 0,  # Mask value for SAR training data.\n",
    "    'class_fill_values': {  # Mask value for class/reference data.\n",
    "        'SIC': SIC_LOOKUP['mask'],\n",
    "        'SOD': SOD_LOOKUP['mask'],\n",
    "        'FLOE': FLOE_LOOKUP['mask'],\n",
    "    },\n",
    "    \n",
    "    # -- Validation options -- #\n",
    "    'chart_metric': {  # Metric functions for each ice parameter and the associated weight.\n",
    "        'SIC': {\n",
    "            'func': r2_metric,\n",
    "            'weight': 2,\n",
    "        },\n",
    "        'SOD': {\n",
    "            'func': f1_metric,\n",
    "            'weight': 2,\n",
    "        },\n",
    "        'FLOE': {\n",
    "            'func': f1_metric,\n",
    "            'weight': 1,\n",
    "        },\n",
    "    },\n",
    "    'num_val_scenes': 10,  # Number of scenes randomly sampled from train_list to use in validation.\n",
    "    \n",
    "    # -- GPU/cuda options -- #\n",
    "    'gpu_id': 0,  # Index of GPU. In case of multiple GPUs.\n",
    "    'num_workers': 1, #6,  # Number of parallel processes to fetch data.\n",
    "    'num_workers_val': 1,  # Number of parallel processes during validation.\n",
    "    \n",
    "    # -- U-Net Options -- #\n",
    "    'unet_conv_filters': [16, 32, 64, 64],  # Number of filters in the U-Net.\n",
    "    'conv_kernel_size': (3, 3),  # Size of convolutional kernels.\n",
    "    'conv_stride_rate': (1, 1),  # Stride rate of convolutional kernels.\n",
    "    'conv_dilation_rate': (1, 1),  # Dilation rate of convolutional kernels.\n",
    "    'conv_padding': (1, 1),  # Number of padded pixels in convolutional layers.\n",
    "    'conv_padding_style': 'zeros',  # Style of padding.\n",
    "}\n",
    "# Get options for variables, amsrenv grid, cropping and upsampling.\n",
    "get_variable_options = get_variable_options(train_options)\n",
    "# To be used in test_upload.\n",
    "%store train_options  \n",
    "\n",
    "# Load training list.\n",
    "with open(train_options['path_to_env'] + 'datalists/dataset.json') as file:\n",
    "    train_options['train_list'] = json.loads(file.read())\n",
    "# Convert the original scene names to the preprocessed names.\n",
    "train_options['train_list'] = [file[17:32] + '_' + file[77:80] + '_prep.nc' for file in train_options['train_list']]\n",
    "# Select a random number of validation scenes with the same seed. Feel free to change the seed.et\n",
    "np.random.seed(0)\n",
    "train_options['validate_list'] = np.random.choice(np.array(train_options['train_list']), size=train_options['num_val_scenes'], replace=False)\n",
    "# Remove the validation scenes from the train list.\n",
    "train_options['train_list'] = [scene for scene in train_options['train_list'] if scene not in train_options['validate_list']]\n",
    "print('Options initialised')\n"
   ]
  },
  {
   "cell_type": "code",
   "execution_count": 4,
   "id": "f51d6670-1dfd-4f8a-8fd4-b41d8bc56d43",
   "metadata": {
    "tags": []
   },
   "outputs": [
    {
     "data": {
      "text/plain": [
       "502"
      ]
     },
     "execution_count": 4,
     "metadata": {},
     "output_type": "execute_result"
    }
   ],
   "source": [
    "len(train_options['train_list'])"
   ]
  },
  {
   "cell_type": "markdown",
   "id": "74517e22-5636-4004-84c5-3cc416276054",
   "metadata": {
    "tags": []
   },
   "source": [
    "### CUDA / GPU Setup\n",
    "This sets up the 'device' variable containing GPU information, and the custom dataset and dataloader."
   ]
  },
  {
   "cell_type": "code",
   "execution_count": 5,
   "id": "26c3c79a-3f60-4ca3-a6e9-b967929a3c12",
   "metadata": {},
   "outputs": [
    {
     "name": "stdout",
     "output_type": "stream",
     "text": [
      "\u001b[0;32mGPU available!\u001b[0m\n",
      "Total number of available devices:  \u001b[0;33m4\u001b[0m\n",
      "GPU and data setup complete.\n"
     ]
    }
   ],
   "source": [
    "# Get GPU resources.\n",
    "if torch.cuda.is_available():\n",
    "    print(colour_str('GPU available!', 'green'))\n",
    "    print('Total number of available devices: ', colour_str(torch.cuda.device_count(), 'orange'))\n",
    "    device = torch.device(f\"cuda:{train_options['gpu_id']}\")\n",
    "\n",
    "else:\n",
    "    print(colour_str('GPU not available.', 'red'))\n",
    "    device = torch.device('cpu')\n",
    "\n",
    "# Custom dataset and dataloader.\n",
    "dataset = AI4ArcticChallengeDataset(files=train_options['train_list'], options=train_options)\n",
    "dataloader = torch.utils.data.DataLoader(dataset, batch_size=None, shuffle=True, num_workers=train_options['num_workers'], pin_memory=True)\n",
    "# - Setup of the validation dataset/dataloader. The same is used for model testing in 'test_upload.ipynb'.\n",
    "dataset_val = AI4ArcticChallengeTestDataset(options=train_options, files=train_options['validate_list'])\n",
    "dataloader_val = torch.utils.data.DataLoader(dataset_val, batch_size=None, num_workers=train_options['num_workers_val'], shuffle=False)\n",
    "\n",
    "print('GPU and data setup complete.')"
   ]
  },
  {
   "cell_type": "markdown",
   "id": "31e9849d-da01-402e-a79f-2f196618fb21",
   "metadata": {},
   "source": [
    "### Example of Model, optimiser and loss function setup"
   ]
  },
  {
   "cell_type": "code",
   "execution_count": 6,
   "id": "df663da8-9779-4f8e-b641-29c9ea4e6036",
   "metadata": {},
   "outputs": [
    {
     "name": "stdout",
     "output_type": "stream",
     "text": [
      "Model setup complete\n"
     ]
    }
   ],
   "source": [
    "# Setup U-Net model, adam optimizer, loss function and dataloader.\n",
    "net = UNet(options=train_options).to(device)\n",
    "optimizer = torch.optim.Adam(list(net.parameters()), lr=train_options['lr'])\n",
    "torch.backends.cudnn.benchmark = True  # Selects the kernel with the best performance for the GPU and given input size.\n",
    "\n",
    "# Loss functions to use for each sea ice parameter.\n",
    "# The ignore_index argument discounts the masked values, ensuring that the model is not using these pixels to train on.\n",
    "# It is equivalent to multiplying the loss of the relevant masked pixel with 0.\n",
    "loss_functions = {chart: torch.nn.CrossEntropyLoss(ignore_index=train_options['class_fill_values'][chart]) \\\n",
    "                                                   for chart in train_options['charts']}\n",
    "print('Model setup complete')"
   ]
  },
  {
   "cell_type": "markdown",
   "id": "bc2980de-1025-4b75-9c43-0c3023a2d12c",
   "metadata": {
    "tags": []
   },
   "source": [
    "len(train_options['validate_list'])## Example of model training and validation loop\n",
    "A simple model training loop following by a simple validation loop. Validation is carried out on full scenes, i.e. no cropping or stitching. If there is not enough space on the GPU, then try to do it on the cpu. This can be done by using 'net = net.cpu()'."
   ]
  },
  {
   "cell_type": "code",
   "execution_count": 7,
   "id": "0d00e418-ff77-4948-92bd-0b2313b281d6",
   "metadata": {},
   "outputs": [
    {
     "data": {
      "application/vnd.jupyter.widget-view+json": {
       "model_id": "bb54009996c24b36846d2e29952bdc81",
       "version_major": 2,
       "version_minor": 0
      },
      "text/plain": [
       "  0%|          | 0/10 [00:00<?, ?it/s]"
      ]
     },
     "metadata": {},
     "output_type": "display_data"
    },
    {
     "data": {
      "application/vnd.jupyter.widget-view+json": {
       "model_id": "31ba0d34dd8845bbbff2370036fd469d",
       "version_major": 2,
       "version_minor": 0
      },
      "text/plain": [
       "  0%|          | 0/50 [00:00<?, ?it/s]"
      ]
     },
     "metadata": {},
     "output_type": "display_data"
    },
    {
     "name": "stdout",
     "output_type": "stream",
     "text": [
      "Mean training loss: 6.056\r"
     ]
    },
    {
     "data": {
      "application/vnd.jupyter.widget-view+json": {
       "model_id": "7a730471d3f64d66a975b9545387dddc",
       "version_major": 2,
       "version_minor": 0
      },
      "text/plain": [
       "  0%|          | 0/10 [00:00<?, ?it/s]"
      ]
     },
     "metadata": {},
     "output_type": "display_data"
    },
    {
     "name": "stdout",
     "output_type": "stream",
     "text": [
      "\n",
      "Final batch loss: 5.795\n",
      "Epoch 0 score:\n",
      "SIC r2_metric: 21.474%\n",
      "SOD f1_metric: 3.487%\n",
      "FLOE f1_metric: 65.067%\n",
      "Combined score: 22.998%\n"
     ]
    },
    {
     "data": {
      "application/vnd.jupyter.widget-view+json": {
       "model_id": "21fb4b2a955b40bfb05488a717ccfb09",
       "version_major": 2,
       "version_minor": 0
      },
      "text/plain": [
       "  0%|          | 0/50 [00:00<?, ?it/s]"
      ]
     },
     "metadata": {},
     "output_type": "display_data"
    },
    {
     "name": "stdout",
     "output_type": "stream",
     "text": [
      "Mean training loss: 5.654\r"
     ]
    },
    {
     "data": {
      "application/vnd.jupyter.widget-view+json": {
       "model_id": "480af55d207044bdae8fbd5606d3d3d3",
       "version_major": 2,
       "version_minor": 0
      },
      "text/plain": [
       "  0%|          | 0/10 [00:00<?, ?it/s]"
      ]
     },
     "metadata": {},
     "output_type": "display_data"
    },
    {
     "name": "stdout",
     "output_type": "stream",
     "text": [
      "\n",
      "Final batch loss: 5.380\n",
      "Epoch 1 score:\n",
      "SIC r2_metric: 0.433%\n",
      "SOD f1_metric: 1.013%\n",
      "FLOE f1_metric: 78.638%\n",
      "Combined score: 16.306%\n"
     ]
    },
    {
     "data": {
      "application/vnd.jupyter.widget-view+json": {
       "model_id": "5682331db56d40bcb39da49893d72d9a",
       "version_major": 2,
       "version_minor": 0
      },
      "text/plain": [
       "  0%|          | 0/50 [00:00<?, ?it/s]"
      ]
     },
     "metadata": {},
     "output_type": "display_data"
    },
    {
     "name": "stdout",
     "output_type": "stream",
     "text": [
      "Mean training loss: 5.502\r"
     ]
    },
    {
     "data": {
      "application/vnd.jupyter.widget-view+json": {
       "model_id": "a2fc517b9dc8461a8bced5d5472b273a",
       "version_major": 2,
       "version_minor": 0
      },
      "text/plain": [
       "  0%|          | 0/10 [00:00<?, ?it/s]"
      ]
     },
     "metadata": {},
     "output_type": "display_data"
    },
    {
     "name": "stdout",
     "output_type": "stream",
     "text": [
      "\n",
      "Final batch loss: 5.244\n",
      "Epoch 2 score:\n",
      "SIC r2_metric: 73.235%\n",
      "SOD f1_metric: 1.433%\n",
      "FLOE f1_metric: 75.754%\n",
      "Combined score: 45.018%\n"
     ]
    },
    {
     "data": {
      "application/vnd.jupyter.widget-view+json": {
       "model_id": "b57216080a2043dfb8091feff160bd91",
       "version_major": 2,
       "version_minor": 0
      },
      "text/plain": [
       "  0%|          | 0/50 [00:00<?, ?it/s]"
      ]
     },
     "metadata": {},
     "output_type": "display_data"
    },
    {
     "name": "stdout",
     "output_type": "stream",
     "text": [
      "Mean training loss: 5.304\r"
     ]
    },
    {
     "data": {
      "application/vnd.jupyter.widget-view+json": {
       "model_id": "092b0b553dcf4ea5a385ac88d4374a14",
       "version_major": 2,
       "version_minor": 0
      },
      "text/plain": [
       "  0%|          | 0/10 [00:00<?, ?it/s]"
      ]
     },
     "metadata": {},
     "output_type": "display_data"
    },
    {
     "name": "stdout",
     "output_type": "stream",
     "text": [
      "\n",
      "Final batch loss: 5.324\n",
      "Epoch 3 score:\n",
      "SIC r2_metric: 61.177%\n",
      "SOD f1_metric: 23.124%\n",
      "FLOE f1_metric: 82.495%\n",
      "Combined score: 50.219%\n"
     ]
    },
    {
     "data": {
      "application/vnd.jupyter.widget-view+json": {
       "model_id": "e4cac00cc1e542068053450a583b9a8a",
       "version_major": 2,
       "version_minor": 0
      },
      "text/plain": [
       "  0%|          | 0/50 [00:00<?, ?it/s]"
      ]
     },
     "metadata": {},
     "output_type": "display_data"
    },
    {
     "name": "stdout",
     "output_type": "stream",
     "text": [
      "Mean training loss: 5.128\r"
     ]
    },
    {
     "data": {
      "application/vnd.jupyter.widget-view+json": {
       "model_id": "acecb703e937428dbb29da44128981e5",
       "version_major": 2,
       "version_minor": 0
      },
      "text/plain": [
       "  0%|          | 0/10 [00:00<?, ?it/s]"
      ]
     },
     "metadata": {},
     "output_type": "display_data"
    },
    {
     "name": "stdout",
     "output_type": "stream",
     "text": [
      "\n",
      "Final batch loss: 5.016\n",
      "Epoch 4 score:\n",
      "SIC r2_metric: 56.69%\n",
      "SOD f1_metric: 16.065%\n",
      "FLOE f1_metric: 82.279%\n",
      "Combined score: 45.558%\n"
     ]
    },
    {
     "data": {
      "application/vnd.jupyter.widget-view+json": {
       "model_id": "1035940f41d84bf297d2866b1a35bea6",
       "version_major": 2,
       "version_minor": 0
      },
      "text/plain": [
       "  0%|          | 0/50 [00:00<?, ?it/s]"
      ]
     },
     "metadata": {},
     "output_type": "display_data"
    },
    {
     "name": "stdout",
     "output_type": "stream",
     "text": [
      "Mean training loss: 4.937\r"
     ]
    },
    {
     "data": {
      "application/vnd.jupyter.widget-view+json": {
       "model_id": "702db5fc5ea24ed7a3a7c2eacb14833a",
       "version_major": 2,
       "version_minor": 0
      },
      "text/plain": [
       "  0%|          | 0/10 [00:00<?, ?it/s]"
      ]
     },
     "metadata": {},
     "output_type": "display_data"
    },
    {
     "name": "stdout",
     "output_type": "stream",
     "text": [
      "\n",
      "Final batch loss: 4.545\n",
      "Epoch 5 score:\n",
      "SIC r2_metric: 55.164%\n",
      "SOD f1_metric: 17.724%\n",
      "FLOE f1_metric: 78.618%\n",
      "Combined score: 44.879%\n"
     ]
    },
    {
     "data": {
      "application/vnd.jupyter.widget-view+json": {
       "model_id": "f9e5e644b89c42ed9b6457986b10b15c",
       "version_major": 2,
       "version_minor": 0
      },
      "text/plain": [
       "  0%|          | 0/50 [00:00<?, ?it/s]"
      ]
     },
     "metadata": {},
     "output_type": "display_data"
    },
    {
     "name": "stdout",
     "output_type": "stream",
     "text": [
      "Mean training loss: 4.963\r"
     ]
    },
    {
     "data": {
      "application/vnd.jupyter.widget-view+json": {
       "model_id": "1d3034060a504da096d3c4c4b54bac36",
       "version_major": 2,
       "version_minor": 0
      },
      "text/plain": [
       "  0%|          | 0/10 [00:00<?, ?it/s]"
      ]
     },
     "metadata": {},
     "output_type": "display_data"
    },
    {
     "name": "stdout",
     "output_type": "stream",
     "text": [
      "\n",
      "Final batch loss: 4.280\n",
      "Epoch 6 score:\n",
      "SIC r2_metric: 68.644%\n",
      "SOD f1_metric: 78.535%\n",
      "FLOE f1_metric: 82.657%\n",
      "Combined score: 75.403%\n"
     ]
    },
    {
     "data": {
      "application/vnd.jupyter.widget-view+json": {
       "model_id": "bc9859b790004de89a6594c8b7824be3",
       "version_major": 2,
       "version_minor": 0
      },
      "text/plain": [
       "  0%|          | 0/50 [00:00<?, ?it/s]"
      ]
     },
     "metadata": {},
     "output_type": "display_data"
    },
    {
     "name": "stdout",
     "output_type": "stream",
     "text": [
      "Mean training loss: 4.784\r"
     ]
    },
    {
     "data": {
      "application/vnd.jupyter.widget-view+json": {
       "model_id": "2139db003a3147b694c1ff2eb1c0920d",
       "version_major": 2,
       "version_minor": 0
      },
      "text/plain": [
       "  0%|          | 0/10 [00:00<?, ?it/s]"
      ]
     },
     "metadata": {},
     "output_type": "display_data"
    },
    {
     "name": "stdout",
     "output_type": "stream",
     "text": [
      "\n",
      "Final batch loss: 5.267\n",
      "Epoch 7 score:\n",
      "SIC r2_metric: 66.642%\n",
      "SOD f1_metric: 76.795%\n",
      "FLOE f1_metric: 82.634%\n",
      "Combined score: 73.902%\n"
     ]
    },
    {
     "data": {
      "application/vnd.jupyter.widget-view+json": {
       "model_id": "3eabf171e7c64919a55f5593cb306f62",
       "version_major": 2,
       "version_minor": 0
      },
      "text/plain": [
       "  0%|          | 0/50 [00:00<?, ?it/s]"
      ]
     },
     "metadata": {},
     "output_type": "display_data"
    },
    {
     "name": "stdout",
     "output_type": "stream",
     "text": [
      "Mean training loss: 4.602\r"
     ]
    },
    {
     "data": {
      "application/vnd.jupyter.widget-view+json": {
       "model_id": "f598cdc5056844fe8e2a30ee0f2a96cb",
       "version_major": 2,
       "version_minor": 0
      },
      "text/plain": [
       "  0%|          | 0/10 [00:00<?, ?it/s]"
      ]
     },
     "metadata": {},
     "output_type": "display_data"
    },
    {
     "name": "stdout",
     "output_type": "stream",
     "text": [
      "\n",
      "Final batch loss: 4.865\n",
      "Epoch 8 score:\n",
      "SIC r2_metric: 67.363%\n",
      "SOD f1_metric: 65.232%\n",
      "FLOE f1_metric: 81.298%\n",
      "Combined score: 69.298%\n"
     ]
    },
    {
     "data": {
      "application/vnd.jupyter.widget-view+json": {
       "model_id": "e82783c71c054d20adf1d241069abf78",
       "version_major": 2,
       "version_minor": 0
      },
      "text/plain": [
       "  0%|          | 0/50 [00:00<?, ?it/s]"
      ]
     },
     "metadata": {},
     "output_type": "display_data"
    },
    {
     "name": "stdout",
     "output_type": "stream",
     "text": [
      "Mean training loss: 4.535\r"
     ]
    },
    {
     "data": {
      "application/vnd.jupyter.widget-view+json": {
       "model_id": "606bb91922334354902216f7d01f8a54",
       "version_major": 2,
       "version_minor": 0
      },
      "text/plain": [
       "  0%|          | 0/10 [00:00<?, ?it/s]"
      ]
     },
     "metadata": {},
     "output_type": "display_data"
    },
    {
     "name": "stdout",
     "output_type": "stream",
     "text": [
      "\n",
      "Final batch loss: 4.568\n",
      "Epoch 9 score:\n",
      "SIC r2_metric: 63.948%\n",
      "SOD f1_metric: 77.568%\n",
      "FLOE f1_metric: 83.354%\n",
      "Combined score: 73.277%\n"
     ]
    }
   ],
   "source": [
    "best_combined_score = 0  # Best weighted model score.\n",
    "\n",
    "# -- Training Loop -- #\n",
    "for epoch in tqdm(iterable=range(train_options['epochs']), position=0):\n",
    "    gc.collect()  # Collect garbage to free memory.\n",
    "    loss_sum = torch.tensor([0.])  # To sum the batch losses during the epoch.\n",
    "    net.train()  # Set network to evaluation mode.\n",
    "\n",
    "    # Loops though batches in queue.\n",
    "    for i, (batch_x, batch_y) in enumerate(tqdm(iterable=dataloader, total=train_options['epoch_len'], colour='red', position=0)):\n",
    "        torch.cuda.empty_cache()  # Empties the GPU cache freeing up memory.\n",
    "        loss_batch = 0  # Reset from previous batch.\n",
    "        \n",
    "        # - Transfer to device.\n",
    "        batch_x = batch_x.to(device, non_blocking=True)\n",
    "\n",
    "        # - Mixed precision training. (Saving memory)\n",
    "        with torch.cuda.amp.autocast():\n",
    "            # - Forward pass. \n",
    "            output = net(batch_x)\n",
    "\n",
    "            # - Calculate loss.\n",
    "            for chart in train_options['charts']:\n",
    "                loss_batch += loss_functions[chart](input=output[chart], target=batch_y[chart].to(device))\n",
    "\n",
    "        # - Reset gradients from previous pass.\n",
    "        optimizer.zero_grad()\n",
    "\n",
    "        # - Backward pass.\n",
    "        loss_batch.backward()\n",
    "\n",
    "        # - Optimizer step\n",
    "        optimizer.step()\n",
    "\n",
    "        # - Add batch loss.\n",
    "        loss_sum += loss_batch.detach().item()\n",
    "\n",
    "        # - Average loss for displaying\n",
    "        loss_epoch = torch.true_divide(loss_sum, i + 1).detach().item()\n",
    "        print('\\rMean training loss: ' + f'{loss_epoch:.3f}', end='\\r')\n",
    "        del output, batch_x, batch_y # Free memory.\n",
    "    del loss_sum\n",
    "\n",
    "    # -- Validation Loop -- #\n",
    "    loss_batch = loss_batch.detach().item()  # For printing after the validation loop.\n",
    "    \n",
    "    # - Stores the output and the reference pixels to calculate the scores after inference on all the scenes.\n",
    "    outputs_flat = {chart: np.array([]) for chart in train_options['charts']}\n",
    "    inf_ys_flat = {chart: np.array([]) for chart in train_options['charts']}\n",
    "\n",
    "    net.eval()  # Set network to evaluation mode.\n",
    "    # - Loops though scenes in queue.\n",
    "    for inf_x, inf_y, masks, name in tqdm(iterable=dataloader_val, total=len(train_options['validate_list']), colour='green', position=0):\n",
    "        torch.cuda.empty_cache()\n",
    "\n",
    "        # - Ensures that no gradients are calculated, which otherwise take up a lot of space on the GPU.\n",
    "        with torch.no_grad(), torch.cuda.amp.autocast():\n",
    "            inf_x = inf_x.to(device, non_blocking=True)\n",
    "            output = net(inf_x)\n",
    "    \n",
    "        # - Final output layer, and storing of non masked pixels.\n",
    "        for chart in train_options['charts']:\n",
    "            output[chart] = torch.argmax(output[chart], dim=1).squeeze().cpu().numpy()\n",
    "            outputs_flat[chart] = np.append(outputs_flat[chart], output[chart][~masks[chart]])\n",
    "            inf_ys_flat[chart] = np.append(inf_ys_flat[chart], inf_y[chart][~masks[chart]].numpy())\n",
    "        \n",
    "        del inf_x, inf_y, masks, output  # Free memory.\n",
    "\n",
    "    # - Compute the relevant scores.\n",
    "    combined_score, scores = compute_metrics(true=inf_ys_flat, pred=outputs_flat, charts=train_options['charts'],\n",
    "                                             metrics=train_options['chart_metric'])\n",
    "\n",
    "    print(\"\")\n",
    "    print(f\"Final batch loss: {loss_batch:.3f}\")\n",
    "    print(f\"Epoch {epoch} score:\")\n",
    "    for chart in train_options['charts']:\n",
    "        print(f\"{chart} {train_options['chart_metric'][chart]['func'].__name__}: {scores[chart]}%\")\n",
    "    print(f\"Combined score: {combined_score}%\")\n",
    "\n",
    "    # If the scores is better than the previous epoch, then save the model and rename the image to best_validation.\n",
    "    if combined_score > best_combined_score:\n",
    "        best_combined_score = combined_score\n",
    "        torch.save(obj={'model_state_dict': net.state_dict(),\n",
    "                        'optimizer_state_dict': optimizer.state_dict(),\n",
    "                        'epoch': epoch},\n",
    "                        f='best_model')\n",
    "    del inf_ys_flat, outputs_flat  # Free memory.\n"
   ]
  },
  {
   "cell_type": "code",
   "execution_count": null,
   "id": "b3e74d64-40e4-4d28-ac0e-a457442013c6",
   "metadata": {},
   "outputs": [],
   "source": []
  }
 ],
 "metadata": {
  "kernelspec": {
   "display_name": "pyAI",
   "language": "python",
   "name": "pyai"
  },
  "language_info": {
   "codemirror_mode": {
    "name": "ipython",
    "version": 3
   },
   "file_extension": ".py",
   "mimetype": "text/x-python",
   "name": "python",
   "nbconvert_exporter": "python",
   "pygments_lexer": "ipython3",
   "version": "3.10.9"
  }
 },
 "nbformat": 4,
 "nbformat_minor": 5
}
